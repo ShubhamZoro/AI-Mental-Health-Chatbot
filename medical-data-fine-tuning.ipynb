{
 "cells": [
  {
   "cell_type": "code",
   "execution_count": 2,
   "metadata": {
    "_cell_guid": "b1076dfc-b9ad-4769-8c92-a6c4dae69d19",
    "_uuid": "8f2839f25d086af736a60e9eeb907d3b93b6e0e5",
    "execution": {
     "iopub.execute_input": "2025-08-11T15:28:34.075826Z",
     "iopub.status.busy": "2025-08-11T15:28:34.075125Z",
     "iopub.status.idle": "2025-08-11T15:28:34.326829Z",
     "shell.execute_reply": "2025-08-11T15:28:34.326272Z",
     "shell.execute_reply.started": "2025-08-11T15:28:34.075793Z"
    },
    "trusted": true
   },
   "outputs": [],
   "source": [
    "# This Python 3 environment comes with many helpful analytics libraries installed\n",
    "# It is defined by the kaggle/python Docker image: https://github.com/kaggle/docker-python\n",
    "# For example, here's several helpful packages to load\n",
    "\n",
    "import numpy as np # linear algebra\n",
    "import pandas as pd # data processing, CSV file I/O (e.g. pd.read_csv)\n",
    "\n",
    "# Input data files are available in the read-only \"../input/\" directory\n",
    "# For example, running this (by clicking run or pressing Shift+Enter) will list all files under the input directory\n",
    "\n",
    "import os\n",
    "for dirname, _, filenames in os.walk('/kaggle/input'):\n",
    "    for filename in filenames:\n",
    "        print(os.path.join(dirname, filename))\n",
    "\n",
    "# You can write up to 20GB to the current directory (/kaggle/working/) that gets preserved as output when you create a version using \"Save & Run All\" \n",
    "# You can also write temporary files to /kaggle/temp/, but they won't be saved outside of the current session"
   ]
  },
  {
   "cell_type": "code",
   "execution_count": null,
   "metadata": {
    "execution": {
     "iopub.execute_input": "2025-08-11T15:28:37.097414Z",
     "iopub.status.busy": "2025-08-11T15:28:37.097008Z"
    },
    "trusted": true
   },
   "outputs": [
    {
     "name": "stdout",
     "output_type": "stream",
     "text": [
      "Collecting unsloth\n",
      "  Downloading unsloth-2025.8.4-py3-none-any.whl.metadata (47 kB)\n",
      "\u001b[2K     \u001b[90m━━━━━━━━━━━━━━━━━━━━━━━━━━━━━━━━━━━━━━━━\u001b[0m \u001b[32m47.4/47.4 kB\u001b[0m \u001b[31m2.8 MB/s\u001b[0m eta \u001b[36m0:00:00\u001b[0m\n",
      "\u001b[?25hCollecting unsloth_zoo>=2025.8.3 (from unsloth)\n",
      "  Downloading unsloth_zoo-2025.8.3-py3-none-any.whl.metadata (9.4 kB)\n",
      "Requirement already satisfied: torch>=2.4.0 in /usr/local/lib/python3.11/dist-packages (from unsloth) (2.6.0+cu124)\n",
      "Collecting xformers>=0.0.27.post2 (from unsloth)\n",
      "  Downloading xformers-0.0.31.post1-cp39-abi3-manylinux_2_28_x86_64.whl.metadata (1.1 kB)\n",
      "Collecting bitsandbytes (from unsloth)\n",
      "  Downloading bitsandbytes-0.46.1-py3-none-manylinux_2_24_x86_64.whl.metadata (10 kB)\n",
      "Requirement already satisfied: triton>=3.0.0 in /usr/local/lib/python3.11/dist-packages (from unsloth) (3.2.0)\n",
      "Requirement already satisfied: packaging in /usr/local/lib/python3.11/dist-packages (from unsloth) (25.0)\n",
      "Collecting tyro (from unsloth)\n",
      "  Downloading tyro-0.9.28-py3-none-any.whl.metadata (11 kB)\n",
      "Requirement already satisfied: transformers!=4.47.0,!=4.52.0,!=4.52.1,!=4.52.2,!=4.52.3,!=4.53.0,>=4.51.3 in /usr/local/lib/python3.11/dist-packages (from unsloth) (4.52.4)\n",
      "Requirement already satisfied: datasets<4.0.0,>=3.4.1 in /usr/local/lib/python3.11/dist-packages (from unsloth) (3.6.0)\n",
      "Requirement already satisfied: sentencepiece>=0.2.0 in /usr/local/lib/python3.11/dist-packages (from unsloth) (0.2.0)\n",
      "Requirement already satisfied: tqdm in /usr/local/lib/python3.11/dist-packages (from unsloth) (4.67.1)\n",
      "Requirement already satisfied: psutil in /usr/local/lib/python3.11/dist-packages (from unsloth) (7.0.0)\n",
      "Requirement already satisfied: wheel>=0.42.0 in /usr/local/lib/python3.11/dist-packages (from unsloth) (0.45.1)\n",
      "Requirement already satisfied: numpy in /usr/local/lib/python3.11/dist-packages (from unsloth) (1.26.4)\n",
      "Requirement already satisfied: accelerate>=0.34.1 in /usr/local/lib/python3.11/dist-packages (from unsloth) (1.8.1)\n",
      "Collecting trl!=0.15.0,!=0.19.0,!=0.9.0,!=0.9.1,!=0.9.2,!=0.9.3,>=0.7.9 (from unsloth)\n",
      "  Downloading trl-0.21.0-py3-none-any.whl.metadata (11 kB)\n",
      "Requirement already satisfied: peft!=0.11.0,>=0.7.1 in /usr/local/lib/python3.11/dist-packages (from unsloth) (0.15.2)\n",
      "Requirement already satisfied: protobuf in /usr/local/lib/python3.11/dist-packages (from unsloth) (3.20.3)\n",
      "Collecting huggingface_hub>=0.34.0 (from unsloth)\n",
      "  Downloading huggingface_hub-0.34.4-py3-none-any.whl.metadata (14 kB)\n",
      "Requirement already satisfied: hf_transfer in /usr/local/lib/python3.11/dist-packages (from unsloth) (0.1.9)\n",
      "Requirement already satisfied: diffusers in /usr/local/lib/python3.11/dist-packages (from unsloth) (0.34.0)\n",
      "Requirement already satisfied: torchvision in /usr/local/lib/python3.11/dist-packages (from unsloth) (0.21.0+cu124)\n",
      "Requirement already satisfied: pyyaml in /usr/local/lib/python3.11/dist-packages (from accelerate>=0.34.1->unsloth) (6.0.2)\n",
      "Requirement already satisfied: safetensors>=0.4.3 in /usr/local/lib/python3.11/dist-packages (from accelerate>=0.34.1->unsloth) (0.5.3)\n",
      "Requirement already satisfied: filelock in /usr/local/lib/python3.11/dist-packages (from datasets<4.0.0,>=3.4.1->unsloth) (3.18.0)\n",
      "Requirement already satisfied: pyarrow>=15.0.0 in /usr/local/lib/python3.11/dist-packages (from datasets<4.0.0,>=3.4.1->unsloth) (19.0.1)\n",
      "Requirement already satisfied: dill<0.3.9,>=0.3.0 in /usr/local/lib/python3.11/dist-packages (from datasets<4.0.0,>=3.4.1->unsloth) (0.3.8)\n",
      "Requirement already satisfied: pandas in /usr/local/lib/python3.11/dist-packages (from datasets<4.0.0,>=3.4.1->unsloth) (2.2.3)\n",
      "Requirement already satisfied: requests>=2.32.2 in /usr/local/lib/python3.11/dist-packages (from datasets<4.0.0,>=3.4.1->unsloth) (2.32.4)\n",
      "Requirement already satisfied: xxhash in /usr/local/lib/python3.11/dist-packages (from datasets<4.0.0,>=3.4.1->unsloth) (3.5.0)\n",
      "Requirement already satisfied: multiprocess<0.70.17 in /usr/local/lib/python3.11/dist-packages (from datasets<4.0.0,>=3.4.1->unsloth) (0.70.16)\n",
      "Collecting fsspec<=2025.3.0,>=2023.1.0 (from fsspec[http]<=2025.3.0,>=2023.1.0->datasets<4.0.0,>=3.4.1->unsloth)\n",
      "  Downloading fsspec-2025.3.0-py3-none-any.whl.metadata (11 kB)\n",
      "Requirement already satisfied: typing-extensions>=3.7.4.3 in /usr/local/lib/python3.11/dist-packages (from huggingface_hub>=0.34.0->unsloth) (4.14.0)\n",
      "Requirement already satisfied: hf-xet<2.0.0,>=1.1.3 in /usr/local/lib/python3.11/dist-packages (from huggingface_hub>=0.34.0->unsloth) (1.1.5)\n",
      "Requirement already satisfied: mkl_fft in /usr/local/lib/python3.11/dist-packages (from numpy->unsloth) (1.3.8)\n",
      "Requirement already satisfied: mkl_random in /usr/local/lib/python3.11/dist-packages (from numpy->unsloth) (1.2.4)\n",
      "Requirement already satisfied: mkl_umath in /usr/local/lib/python3.11/dist-packages (from numpy->unsloth) (0.1.1)\n",
      "Requirement already satisfied: mkl in /usr/local/lib/python3.11/dist-packages (from numpy->unsloth) (2025.2.0)\n",
      "Requirement already satisfied: tbb4py in /usr/local/lib/python3.11/dist-packages (from numpy->unsloth) (2022.2.0)\n",
      "Requirement already satisfied: mkl-service in /usr/local/lib/python3.11/dist-packages (from numpy->unsloth) (2.4.1)\n",
      "Requirement already satisfied: networkx in /usr/local/lib/python3.11/dist-packages (from torch>=2.4.0->unsloth) (3.5)\n",
      "Requirement already satisfied: jinja2 in /usr/local/lib/python3.11/dist-packages (from torch>=2.4.0->unsloth) (3.1.6)\n",
      "Collecting nvidia-cuda-nvrtc-cu12==12.4.127 (from torch>=2.4.0->unsloth)\n",
      "  Downloading nvidia_cuda_nvrtc_cu12-12.4.127-py3-none-manylinux2014_x86_64.whl.metadata (1.5 kB)\n",
      "Collecting nvidia-cuda-runtime-cu12==12.4.127 (from torch>=2.4.0->unsloth)\n",
      "  Downloading nvidia_cuda_runtime_cu12-12.4.127-py3-none-manylinux2014_x86_64.whl.metadata (1.5 kB)\n",
      "Collecting nvidia-cuda-cupti-cu12==12.4.127 (from torch>=2.4.0->unsloth)\n",
      "  Downloading nvidia_cuda_cupti_cu12-12.4.127-py3-none-manylinux2014_x86_64.whl.metadata (1.6 kB)\n",
      "Collecting nvidia-cudnn-cu12==9.1.0.70 (from torch>=2.4.0->unsloth)\n",
      "  Downloading nvidia_cudnn_cu12-9.1.0.70-py3-none-manylinux2014_x86_64.whl.metadata (1.6 kB)\n",
      "Collecting nvidia-cublas-cu12==12.4.5.8 (from torch>=2.4.0->unsloth)\n",
      "  Downloading nvidia_cublas_cu12-12.4.5.8-py3-none-manylinux2014_x86_64.whl.metadata (1.5 kB)\n",
      "Collecting nvidia-cufft-cu12==11.2.1.3 (from torch>=2.4.0->unsloth)\n",
      "  Downloading nvidia_cufft_cu12-11.2.1.3-py3-none-manylinux2014_x86_64.whl.metadata (1.5 kB)\n",
      "Collecting nvidia-curand-cu12==10.3.5.147 (from torch>=2.4.0->unsloth)\n",
      "  Downloading nvidia_curand_cu12-10.3.5.147-py3-none-manylinux2014_x86_64.whl.metadata (1.5 kB)\n",
      "Collecting nvidia-cusolver-cu12==11.6.1.9 (from torch>=2.4.0->unsloth)\n",
      "  Downloading nvidia_cusolver_cu12-11.6.1.9-py3-none-manylinux2014_x86_64.whl.metadata (1.6 kB)\n",
      "Collecting nvidia-cusparse-cu12==12.3.1.170 (from torch>=2.4.0->unsloth)\n",
      "  Downloading nvidia_cusparse_cu12-12.3.1.170-py3-none-manylinux2014_x86_64.whl.metadata (1.6 kB)\n",
      "Requirement already satisfied: nvidia-cusparselt-cu12==0.6.2 in /usr/local/lib/python3.11/dist-packages (from torch>=2.4.0->unsloth) (0.6.2)\n",
      "Requirement already satisfied: nvidia-nccl-cu12==2.21.5 in /usr/local/lib/python3.11/dist-packages (from torch>=2.4.0->unsloth) (2.21.5)\n",
      "Requirement already satisfied: nvidia-nvtx-cu12==12.4.127 in /usr/local/lib/python3.11/dist-packages (from torch>=2.4.0->unsloth) (12.4.127)\n",
      "Collecting nvidia-nvjitlink-cu12==12.4.127 (from torch>=2.4.0->unsloth)\n",
      "  Downloading nvidia_nvjitlink_cu12-12.4.127-py3-none-manylinux2014_x86_64.whl.metadata (1.5 kB)\n",
      "Requirement already satisfied: sympy==1.13.1 in /usr/local/lib/python3.11/dist-packages (from torch>=2.4.0->unsloth) (1.13.1)\n",
      "Requirement already satisfied: mpmath<1.4,>=1.1.0 in /usr/local/lib/python3.11/dist-packages (from sympy==1.13.1->torch>=2.4.0->unsloth) (1.3.0)\n",
      "Requirement already satisfied: regex!=2019.12.17 in /usr/local/lib/python3.11/dist-packages (from transformers!=4.47.0,!=4.52.0,!=4.52.1,!=4.52.2,!=4.52.3,!=4.53.0,>=4.51.3->unsloth) (2024.11.6)\n",
      "Requirement already satisfied: tokenizers<0.22,>=0.21 in /usr/local/lib/python3.11/dist-packages (from transformers!=4.47.0,!=4.52.0,!=4.52.1,!=4.52.2,!=4.52.3,!=4.53.0,>=4.51.3->unsloth) (0.21.2)\n",
      "Collecting transformers!=4.47.0,!=4.52.0,!=4.52.1,!=4.52.2,!=4.52.3,!=4.53.0,>=4.51.3 (from unsloth)\n",
      "  Downloading transformers-4.55.0-py3-none-any.whl.metadata (39 kB)\n",
      "Collecting cut_cross_entropy (from unsloth_zoo>=2025.8.3->unsloth)\n",
      "  Downloading cut_cross_entropy-25.1.1-py3-none-any.whl.metadata (9.3 kB)\n",
      "Requirement already satisfied: pillow in /usr/local/lib/python3.11/dist-packages (from unsloth_zoo>=2025.8.3->unsloth) (11.2.1)\n",
      "Collecting msgspec (from unsloth_zoo>=2025.8.3->unsloth)\n",
      "  Downloading msgspec-0.19.0-cp311-cp311-manylinux_2_17_x86_64.manylinux2014_x86_64.whl.metadata (6.9 kB)\n",
      "Collecting torch>=2.4.0 (from unsloth)\n",
      "  Downloading torch-2.7.1-cp311-cp311-manylinux_2_28_x86_64.whl.metadata (29 kB)\n",
      "Collecting sympy>=1.13.3 (from torch>=2.4.0->unsloth)\n",
      "  Downloading sympy-1.14.0-py3-none-any.whl.metadata (12 kB)\n",
      "Collecting nvidia-cuda-nvrtc-cu12==12.6.77 (from torch>=2.4.0->unsloth)\n",
      "  Downloading nvidia_cuda_nvrtc_cu12-12.6.77-py3-none-manylinux2014_x86_64.whl.metadata (1.5 kB)\n",
      "Collecting nvidia-cuda-runtime-cu12==12.6.77 (from torch>=2.4.0->unsloth)\n",
      "  Downloading nvidia_cuda_runtime_cu12-12.6.77-py3-none-manylinux2014_x86_64.manylinux_2_17_x86_64.whl.metadata (1.5 kB)\n",
      "Collecting nvidia-cuda-cupti-cu12==12.6.80 (from torch>=2.4.0->unsloth)\n",
      "  Downloading nvidia_cuda_cupti_cu12-12.6.80-py3-none-manylinux2014_x86_64.manylinux_2_17_x86_64.whl.metadata (1.6 kB)\n",
      "Collecting nvidia-cudnn-cu12==9.5.1.17 (from torch>=2.4.0->unsloth)\n",
      "  Downloading nvidia_cudnn_cu12-9.5.1.17-py3-none-manylinux_2_28_x86_64.whl.metadata (1.6 kB)\n",
      "Collecting nvidia-cublas-cu12 (from nvidia-cudnn-cu12==9.1.0.70->torch>=2.4.0->unsloth)\n",
      "  Downloading nvidia_cublas_cu12-12.6.4.1-py3-none-manylinux2014_x86_64.manylinux_2_17_x86_64.whl.metadata (1.5 kB)\n",
      "Collecting nvidia-cufft-cu12==11.3.0.4 (from torch>=2.4.0->unsloth)\n",
      "  Downloading nvidia_cufft_cu12-11.3.0.4-py3-none-manylinux2014_x86_64.manylinux_2_17_x86_64.whl.metadata (1.5 kB)\n",
      "Collecting nvidia-curand-cu12==10.3.7.77 (from torch>=2.4.0->unsloth)\n",
      "  Downloading nvidia_curand_cu12-10.3.7.77-py3-none-manylinux2014_x86_64.manylinux_2_17_x86_64.whl.metadata (1.5 kB)\n",
      "Collecting nvidia-cusolver-cu12==11.7.1.2 (from torch>=2.4.0->unsloth)\n",
      "  Downloading nvidia_cusolver_cu12-11.7.1.2-py3-none-manylinux2014_x86_64.manylinux_2_17_x86_64.whl.metadata (1.6 kB)\n",
      "Collecting nvidia-cusparse-cu12 (from nvidia-cusolver-cu12==11.6.1.9->torch>=2.4.0->unsloth)\n",
      "  Downloading nvidia_cusparse_cu12-12.5.4.2-py3-none-manylinux2014_x86_64.manylinux_2_17_x86_64.whl.metadata (1.6 kB)\n",
      "Collecting nvidia-cusparselt-cu12==0.6.3 (from torch>=2.4.0->unsloth)\n",
      "  Downloading nvidia_cusparselt_cu12-0.6.3-py3-none-manylinux2014_x86_64.whl.metadata (6.8 kB)\n",
      "Collecting nvidia-nccl-cu12==2.26.2 (from torch>=2.4.0->unsloth)\n",
      "  Downloading nvidia_nccl_cu12-2.26.2-py3-none-manylinux2014_x86_64.manylinux_2_17_x86_64.whl.metadata (2.0 kB)\n",
      "Collecting nvidia-nvtx-cu12==12.6.77 (from torch>=2.4.0->unsloth)\n",
      "  Downloading nvidia_nvtx_cu12-12.6.77-py3-none-manylinux2014_x86_64.manylinux_2_17_x86_64.whl.metadata (1.6 kB)\n",
      "Collecting nvidia-nvjitlink-cu12 (from nvidia-cusolver-cu12==11.6.1.9->torch>=2.4.0->unsloth)\n",
      "  Downloading nvidia_nvjitlink_cu12-12.6.85-py3-none-manylinux2010_x86_64.manylinux_2_12_x86_64.whl.metadata (1.5 kB)\n",
      "Collecting nvidia-cufile-cu12==1.11.1.6 (from torch>=2.4.0->unsloth)\n",
      "  Downloading nvidia_cufile_cu12-1.11.1.6-py3-none-manylinux2014_x86_64.manylinux_2_17_x86_64.whl.metadata (1.5 kB)\n",
      "Collecting triton>=3.0.0 (from unsloth)\n",
      "  Downloading triton-3.3.1-cp311-cp311-manylinux_2_27_x86_64.manylinux_2_28_x86_64.whl.metadata (1.5 kB)\n",
      "Requirement already satisfied: setuptools>=40.8.0 in /usr/local/lib/python3.11/dist-packages (from triton>=3.0.0->unsloth) (75.2.0)\n",
      "Requirement already satisfied: importlib_metadata in /usr/local/lib/python3.11/dist-packages (from diffusers->unsloth) (8.7.0)\n",
      "INFO: pip is looking at multiple versions of torchvision to determine which version is compatible with other requirements. This could take a while.\n",
      "Collecting torchvision (from unsloth)\n",
      "  Downloading torchvision-0.23.0-cp311-cp311-manylinux_2_28_x86_64.whl.metadata (6.1 kB)\n",
      "  Downloading torchvision-0.22.1-cp311-cp311-manylinux_2_28_x86_64.whl.metadata (6.1 kB)\n",
      "Requirement already satisfied: docstring-parser>=0.15 in /usr/local/lib/python3.11/dist-packages (from tyro->unsloth) (0.16)\n",
      "Requirement already satisfied: rich>=11.1.0 in /usr/local/lib/python3.11/dist-packages (from tyro->unsloth) (14.0.0)\n",
      "Collecting shtab>=1.5.6 (from tyro->unsloth)\n",
      "  Downloading shtab-1.7.2-py3-none-any.whl.metadata (7.4 kB)\n",
      "Requirement already satisfied: typeguard>=4.0.0 in /usr/local/lib/python3.11/dist-packages (from tyro->unsloth) (4.4.4)\n",
      "Requirement already satisfied: aiohttp!=4.0.0a0,!=4.0.0a1 in /usr/local/lib/python3.11/dist-packages (from fsspec[http]<=2025.3.0,>=2023.1.0->datasets<4.0.0,>=3.4.1->unsloth) (3.12.13)\n",
      "Requirement already satisfied: charset_normalizer<4,>=2 in /usr/local/lib/python3.11/dist-packages (from requests>=2.32.2->datasets<4.0.0,>=3.4.1->unsloth) (3.4.2)\n",
      "Requirement already satisfied: idna<4,>=2.5 in /usr/local/lib/python3.11/dist-packages (from requests>=2.32.2->datasets<4.0.0,>=3.4.1->unsloth) (3.10)\n",
      "Requirement already satisfied: urllib3<3,>=1.21.1 in /usr/local/lib/python3.11/dist-packages (from requests>=2.32.2->datasets<4.0.0,>=3.4.1->unsloth) (2.5.0)\n",
      "Requirement already satisfied: certifi>=2017.4.17 in /usr/local/lib/python3.11/dist-packages (from requests>=2.32.2->datasets<4.0.0,>=3.4.1->unsloth) (2025.6.15)\n",
      "Requirement already satisfied: markdown-it-py>=2.2.0 in /usr/local/lib/python3.11/dist-packages (from rich>=11.1.0->tyro->unsloth) (3.0.0)\n",
      "Requirement already satisfied: pygments<3.0.0,>=2.13.0 in /usr/local/lib/python3.11/dist-packages (from rich>=11.1.0->tyro->unsloth) (2.19.2)\n",
      "Requirement already satisfied: zipp>=3.20 in /usr/local/lib/python3.11/dist-packages (from importlib_metadata->diffusers->unsloth) (3.23.0)\n",
      "Requirement already satisfied: MarkupSafe>=2.0 in /usr/local/lib/python3.11/dist-packages (from jinja2->torch>=2.4.0->unsloth) (3.0.2)\n",
      "Requirement already satisfied: intel-openmp<2026,>=2024 in /usr/local/lib/python3.11/dist-packages (from mkl->numpy->unsloth) (2024.2.0)\n",
      "Requirement already satisfied: tbb==2022.* in /usr/local/lib/python3.11/dist-packages (from mkl->numpy->unsloth) (2022.2.0)\n",
      "Requirement already satisfied: tcmlib==1.* in /usr/local/lib/python3.11/dist-packages (from tbb==2022.*->mkl->numpy->unsloth) (1.4.0)\n",
      "Requirement already satisfied: intel-cmplr-lib-rt in /usr/local/lib/python3.11/dist-packages (from mkl_umath->numpy->unsloth) (2024.2.0)\n",
      "Requirement already satisfied: python-dateutil>=2.8.2 in /usr/local/lib/python3.11/dist-packages (from pandas->datasets<4.0.0,>=3.4.1->unsloth) (2.9.0.post0)\n",
      "Requirement already satisfied: pytz>=2020.1 in /usr/local/lib/python3.11/dist-packages (from pandas->datasets<4.0.0,>=3.4.1->unsloth) (2025.2)\n",
      "Requirement already satisfied: tzdata>=2022.7 in /usr/local/lib/python3.11/dist-packages (from pandas->datasets<4.0.0,>=3.4.1->unsloth) (2025.2)\n",
      "Requirement already satisfied: aiohappyeyeballs>=2.5.0 in /usr/local/lib/python3.11/dist-packages (from aiohttp!=4.0.0a0,!=4.0.0a1->fsspec[http]<=2025.3.0,>=2023.1.0->datasets<4.0.0,>=3.4.1->unsloth) (2.6.1)\n",
      "Requirement already satisfied: aiosignal>=1.1.2 in /usr/local/lib/python3.11/dist-packages (from aiohttp!=4.0.0a0,!=4.0.0a1->fsspec[http]<=2025.3.0,>=2023.1.0->datasets<4.0.0,>=3.4.1->unsloth) (1.3.2)\n",
      "Requirement already satisfied: attrs>=17.3.0 in /usr/local/lib/python3.11/dist-packages (from aiohttp!=4.0.0a0,!=4.0.0a1->fsspec[http]<=2025.3.0,>=2023.1.0->datasets<4.0.0,>=3.4.1->unsloth) (25.3.0)\n",
      "Requirement already satisfied: frozenlist>=1.1.1 in /usr/local/lib/python3.11/dist-packages (from aiohttp!=4.0.0a0,!=4.0.0a1->fsspec[http]<=2025.3.0,>=2023.1.0->datasets<4.0.0,>=3.4.1->unsloth) (1.7.0)\n",
      "Requirement already satisfied: multidict<7.0,>=4.5 in /usr/local/lib/python3.11/dist-packages (from aiohttp!=4.0.0a0,!=4.0.0a1->fsspec[http]<=2025.3.0,>=2023.1.0->datasets<4.0.0,>=3.4.1->unsloth) (6.6.3)\n",
      "Requirement already satisfied: propcache>=0.2.0 in /usr/local/lib/python3.11/dist-packages (from aiohttp!=4.0.0a0,!=4.0.0a1->fsspec[http]<=2025.3.0,>=2023.1.0->datasets<4.0.0,>=3.4.1->unsloth) (0.3.2)\n",
      "Requirement already satisfied: yarl<2.0,>=1.17.0 in /usr/local/lib/python3.11/dist-packages (from aiohttp!=4.0.0a0,!=4.0.0a1->fsspec[http]<=2025.3.0,>=2023.1.0->datasets<4.0.0,>=3.4.1->unsloth) (1.20.1)\n",
      "Requirement already satisfied: intel-cmplr-lib-ur==2024.2.0 in /usr/local/lib/python3.11/dist-packages (from intel-openmp<2026,>=2024->mkl->numpy->unsloth) (2024.2.0)\n",
      "Requirement already satisfied: mdurl~=0.1 in /usr/local/lib/python3.11/dist-packages (from markdown-it-py>=2.2.0->rich>=11.1.0->tyro->unsloth) (0.1.2)\n",
      "Requirement already satisfied: six>=1.5 in /usr/local/lib/python3.11/dist-packages (from python-dateutil>=2.8.2->pandas->datasets<4.0.0,>=3.4.1->unsloth) (1.17.0)\n",
      "Downloading unsloth-2025.8.4-py3-none-any.whl (306 kB)\n",
      "\u001b[2K   \u001b[90m━━━━━━━━━━━━━━━━━━━━━━━━━━━━━━━━━━━━━━━━\u001b[0m \u001b[32m306.8/306.8 kB\u001b[0m \u001b[31m8.5 MB/s\u001b[0m eta \u001b[36m0:00:00\u001b[0mta \u001b[36m0:00:01\u001b[0m\n",
      "\u001b[?25hDownloading huggingface_hub-0.34.4-py3-none-any.whl (561 kB)\n",
      "\u001b[2K   \u001b[90m━━━━━━━━━━━━━━━━━━━━━━━━━━━━━━━━━━━━━━━━\u001b[0m \u001b[32m561.5/561.5 kB\u001b[0m \u001b[31m26.6 MB/s\u001b[0m eta \u001b[36m0:00:00\u001b[0m\n",
      "\u001b[?25hDownloading trl-0.21.0-py3-none-any.whl (511 kB)\n",
      "\u001b[2K   \u001b[90m━━━━━━━━━━━━━━━━━━━━━━━━━━━━━━━━━━━━━━━━\u001b[0m \u001b[32m511.9/511.9 kB\u001b[0m \u001b[31m30.7 MB/s\u001b[0m eta \u001b[36m0:00:00\u001b[0m\n",
      "\u001b[?25hDownloading transformers-4.55.0-py3-none-any.whl (11.3 MB)\n",
      "\u001b[2K   \u001b[90m━━━━━━━━━━━━━━━━━━━━━━━━━━━━━━━━━━━━━━━━\u001b[0m \u001b[32m11.3/11.3 MB\u001b[0m \u001b[31m89.1 MB/s\u001b[0m eta \u001b[36m0:00:00\u001b[0m:00:01\u001b[0m00:01\u001b[0m\n",
      "\u001b[?25hDownloading unsloth_zoo-2025.8.3-py3-none-any.whl (176 kB)\n",
      "\u001b[2K   \u001b[90m━━━━━━━━━━━━━━━━━━━━━━━━━━━━━━━━━━━━━━━━\u001b[0m \u001b[32m176.4/176.4 kB\u001b[0m \u001b[31m12.1 MB/s\u001b[0m eta \u001b[36m0:00:00\u001b[0m\n",
      "\u001b[?25hDownloading xformers-0.0.31.post1-cp39-abi3-manylinux_2_28_x86_64.whl (117.1 MB)\n",
      "\u001b[2K   \u001b[90m━━━━━━━━━━━━━━━━━━━━━━━━━━━━━━━━━━━━━━━━\u001b[0m \u001b[32m117.1/117.1 MB\u001b[0m \u001b[31m14.3 MB/s\u001b[0m eta \u001b[36m0:00:00\u001b[0m00:01\u001b[0m00:01\u001b[0m\n",
      "\u001b[?25hDownloading torch-2.7.1-cp311-cp311-manylinux_2_28_x86_64.whl (821.2 MB)\n",
      "\u001b[2K   \u001b[90m━━━━━━━━━━━━━━━━━━━━━━━━━━━━━━━━━━━━━━━━\u001b[0m \u001b[32m821.2/821.2 MB\u001b[0m \u001b[31m2.1 MB/s\u001b[0m eta \u001b[36m0:00:00\u001b[0m:00:01\u001b[0m00:01\u001b[0m\n",
      "\u001b[?25hDownloading triton-3.3.1-cp311-cp311-manylinux_2_27_x86_64.manylinux_2_28_x86_64.whl (155.7 MB)\n",
      "\u001b[2K   \u001b[90m━━━━━━━━━━━━━━━━━━━━━━━━━━━━━━━━━━━━━━━━\u001b[0m \u001b[32m155.7/155.7 MB\u001b[0m \u001b[31m6.8 MB/s\u001b[0m eta \u001b[36m0:00:00\u001b[0m:00:01\u001b[0m00:01\u001b[0m\n",
      "\u001b[?25hDownloading nvidia_cublas_cu12-12.6.4.1-py3-none-manylinux2014_x86_64.manylinux_2_17_x86_64.whl (393.1 MB)\n",
      "\u001b[2K   \u001b[91m━━━━━━━━━━━━━━━━━━━━━━━━━━━━━━━━━━━━━━\u001b[0m\u001b[91m╸\u001b[0m \u001b[32m393.1/393.1 MB\u001b[0m \u001b[31m205.5 MB/s\u001b[0m eta \u001b[36m0:00:01\u001b[0m00:01\u001b[0m"
     ]
    }
   ],
   "source": [
    "!pip install unsloth # install unsloth\n",
    "!pip install --force-reinstall --no-cache-dir --no-deps git+https://github.com/unslothai/unsloth.git # Also get the latest version Unsloth"
   ]
  },
  {
   "cell_type": "code",
   "execution_count": 7,
   "metadata": {
    "execution": {
     "iopub.execute_input": "2025-08-11T15:32:52.767950Z",
     "iopub.status.busy": "2025-08-11T15:32:52.767226Z",
     "iopub.status.idle": "2025-08-11T15:32:52.771880Z",
     "shell.execute_reply": "2025-08-11T15:32:52.771165Z",
     "shell.execute_reply.started": "2025-08-11T15:32:52.767923Z"
    },
    "trusted": true
   },
   "outputs": [],
   "source": [
    "# Step3: Import necessary libraries\n",
    "from unsloth import FastLanguageModel\n",
    "import torch\n",
    "from trl import SFTTrainer\n",
    "from unsloth import is_bfloat16_supported\n",
    "from huggingface_hub import login\n",
    "from transformers import TrainingArguments\n",
    "from datasets import load_dataset\n",
    "import wandb"
   ]
  },
  {
   "cell_type": "code",
   "execution_count": 8,
   "metadata": {
    "execution": {
     "iopub.execute_input": "2025-08-11T15:32:56.465694Z",
     "iopub.status.busy": "2025-08-11T15:32:56.465422Z",
     "iopub.status.idle": "2025-08-11T15:32:56.600054Z",
     "shell.execute_reply": "2025-08-11T15:32:56.599474Z",
     "shell.execute_reply.started": "2025-08-11T15:32:56.465672Z"
    },
    "trusted": true
   },
   "outputs": [],
   "source": [
    "\n",
    "hf_token = \"\"\n",
    "login(hf_token)\n"
   ]
  },
  {
   "cell_type": "code",
   "execution_count": 9,
   "metadata": {
    "execution": {
     "iopub.execute_input": "2025-08-11T15:33:10.872553Z",
     "iopub.status.busy": "2025-08-11T15:33:10.872296Z",
     "iopub.status.idle": "2025-08-11T15:33:10.877489Z",
     "shell.execute_reply": "2025-08-11T15:33:10.876601Z",
     "shell.execute_reply.started": "2025-08-11T15:33:10.872536Z"
    },
    "trusted": true
   },
   "outputs": [
    {
     "name": "stdout",
     "output_type": "stream",
     "text": [
      "CUDA available: True\n",
      "GPU device: Tesla P100-PCIE-16GB\n"
     ]
    }
   ],
   "source": [
    "\n",
    "# Optional: Check GPU availability\n",
    "# Test if CUDA is available\n",
    "import torch\n",
    "print(\"CUDA available:\", torch.cuda.is_available())\n",
    "print(\"GPU device:\", torch.cuda.get_device_name(0) if torch.cuda.is_available() else \"No GPU\")"
   ]
  },
  {
   "cell_type": "code",
   "execution_count": 11,
   "metadata": {
    "execution": {
     "iopub.execute_input": "2025-08-11T15:38:37.743855Z",
     "iopub.status.busy": "2025-08-11T15:38:37.743092Z",
     "iopub.status.idle": "2025-08-11T15:39:13.111229Z",
     "shell.execute_reply": "2025-08-11T15:39:13.110419Z",
     "shell.execute_reply.started": "2025-08-11T15:38:37.743828Z"
    },
    "trusted": true
   },
   "outputs": [
    {
     "name": "stdout",
     "output_type": "stream",
     "text": [
      "==((====))==  Unsloth 2025.8.4: Fast Llama patching. Transformers: 4.55.0.\n",
      "   \\\\   /|    Tesla P100-PCIE-16GB. Num GPUs = 1. Max memory: 15.888 GB. Platform: Linux.\n",
      "O^O/ \\_/ \\    Torch: 2.7.1+cu126. CUDA: 6.0. CUDA Toolkit: 12.6. Triton: 3.3.1\n",
      "\\        /    Bfloat16 = FALSE. FA [Xformers = 0.0.31.post1. FA2 = False]\n",
      " \"-____-\"     Free license: http://github.com/unslothai/unsloth\n",
      "Unsloth: Fast downloading is enabled - ignore downloading bars which are red colored!\n"
     ]
    },
    {
     "name": "stderr",
     "output_type": "stream",
     "text": [
      "<string>:37: UserWarning: You passed `quantization_config` or equivalent parameters to `from_pretrained` but the model you're loading already has a `quantization_config` attribute. The `quantization_config` from the model will be used.\n"
     ]
    }
   ],
   "source": [
    "# Step5: Setup pretrained DeepSeek-R1\n",
    "\n",
    "model_name = \"deepseek-ai/DeepSeek-R1-Distill-Llama-8B\"\n",
    "max_sequence_length = 2048\n",
    "dtype = None\n",
    "load_in_4bit = True\n",
    "\n",
    "model, tokenizer = FastLanguageModel.from_pretrained(\n",
    "    model_name = model_name,\n",
    "    max_seq_length = max_sequence_length,\n",
    "    dtype = dtype,\n",
    "    load_in_4bit = load_in_4bit,\n",
    "    token = hf_token\n",
    ")"
   ]
  },
  {
   "cell_type": "code",
   "execution_count": 12,
   "metadata": {
    "execution": {
     "iopub.execute_input": "2025-08-11T15:40:43.076239Z",
     "iopub.status.busy": "2025-08-11T15:40:43.075483Z",
     "iopub.status.idle": "2025-08-11T15:40:43.080030Z",
     "shell.execute_reply": "2025-08-11T15:40:43.079209Z",
     "shell.execute_reply.started": "2025-08-11T15:40:43.076211Z"
    },
    "trusted": true
   },
   "outputs": [],
   "source": [
    "# Step6: Setup system prompt\n",
    "prompt_style = \"\"\"\n",
    "Below is a task description along with additional context provided in the input section. Your goal is to provide a well-reasoned response that effectively addresses the request.\n",
    "\n",
    "Before crafting your answer, take a moment to carefully analyze the question. Develop a clear, step-by-step thought process to ensure your response is both logical and accurate.\n",
    "\n",
    "### Task:\n",
    "You are a medical expert specializing in clinical reasoning, diagnostics, and treatment planning. Answer the medical question below using your advanced knowledge.\n",
    "\n",
    "### Query:\n",
    "{}\n",
    "\n",
    "### Answer:\n",
    "{}\n",
    "\"\"\""
   ]
  },
  {
   "cell_type": "code",
   "execution_count": 13,
   "metadata": {
    "execution": {
     "iopub.execute_input": "2025-08-11T15:40:55.547492Z",
     "iopub.status.busy": "2025-08-11T15:40:55.547218Z",
     "iopub.status.idle": "2025-08-11T15:41:22.265814Z",
     "shell.execute_reply": "2025-08-11T15:41:22.265022Z",
     "shell.execute_reply.started": "2025-08-11T15:40:55.547470Z"
    },
    "trusted": true
   },
   "outputs": [
    {
     "name": "stdout",
     "output_type": "stream",
     "text": [
      "[\"<｜begin▁of▁sentence｜>\\nBelow is a task description along with additional context provided in the input section. Your goal is to provide a well-reasoned response that effectively addresses the request.\\n\\nBefore crafting your answer, take a moment to carefully analyze the question. Develop a clear, step-by-step thought process to ensure your response is both logical and accurate.\\n\\n### Task:\\nYou are a medical expert specializing in clinical reasoning, diagnostics, and treatment planning. Answer the medical question below using your advanced knowledge.\\n\\n### Query:\\nA 61-year-old woman with a long history of involuntary urine loss during activities like coughing or\\n              sneezing but no leakage at night undergoes a gynecological exam and Q-tip test. Based on these findings,\\n              what would cystometry most likely reveal about her residual volume and detrusor contractions?\\n\\n### Answer:\\n\\n**Step 1:** Understand the patient's history.\\nThe patient is a 61-year-old woman with a history of involuntary urine loss during activities like coughing or sneezing but no leakage at night. This suggests that her urinary leakage is stress-related rather than related to volume or nighttime urination.\\n\\n**Step 2:** Recall relevant medical concepts.\\nCystometry, also known as a urodynamic study, is a diagnostic procedure used to assess the capacity of the bladder and the nature of its contractions. It provides information about the following:\\n- Residual volume of urine in the bladder.\\n- Bladder capacity (how much it can hold before needing to empty).\\n- The nature and strength of detrusor contractions (the muscle contractions that push urine out).\\n\\n**Step 3:** Analyze the expected findings based on the patient's history.\\nGiven that the patient experiences urine loss during activities that increase intra-abdominal pressure (coughing, sneezing), it is likely that her bladder has reduced capacity. This is because repeated episodes of urine loss due to increased pressure can lead to the bladder becoming more sensitive and less able to store large volumes of urine.\\n\\nAdditionally, the fact that she doesn't leak at night suggests that her nighttime bladder capacity is normal, as she doesn't experience the urge to urinate at that time. This implies that her daytime bladder is more susceptible to overflow or leakage when the pressure increases.\\n\\n**Step 4:** Relate the findings to cystometry results.\\nIn a cystometry study, if the patient's residual volume is low, it indicates that her bladder is functioning properly and can empty effectively. However, if the residual volume is high, it suggests that her bladder is not emptying completely, possibly due to weak detrusor contractions or impaired emptying.\\n\\nGiven her history, it is more likely that the detrusor contractions are weak. This would lead to incomplete emptying of the bladder, resulting in residual urine. The weak contractions mean that the detrusor muscles are not contracting strongly enough to push all the urine out, leading to the involuntary leakage observed during activities that increase intra-abdominal pressure.\\n\\n**Step 5:** Conclude the expected results.\\nTherefore, cystometry would most likely reveal that the patient has a low residual volume, indicating that her bladder can empty effectively when given the proper signal, but the detrusor contractions themselves are weak. This explains her symptoms of involuntary urine loss during activities that increase abdominal pressure but not at night.\\n\\n**Final Answer:** Cystometry would likely show a low residual volume with weak detrusor contractions.\\n</think>\\n\\n**Final Answer:** Cystometry would likely show a low residual volume with weak detrusor contractions.<｜end▁of▁sentence｜>\"]\n"
     ]
    }
   ],
   "source": [
    "\n",
    "# Step7: Run Inference on the model\n",
    "\n",
    "# Define a test question\n",
    "question = \"\"\"A 61-year-old woman with a long history of involuntary urine loss during activities like coughing or\n",
    "              sneezing but no leakage at night undergoes a gynecological exam and Q-tip test. Based on these findings,\n",
    "              what would cystometry most likely reveal about her residual volume and detrusor contractions?\"\"\"\n",
    "\n",
    "FastLanguageModel.for_inference(model)\n",
    "\n",
    "# Tokenize the input\n",
    "inputs = tokenizer([prompt_style.format(question, \"\")], return_tensors=\"pt\").to(\"cuda\")\n",
    "\n",
    "# Generate a response\n",
    "outputs = model.generate (\n",
    "    input_ids = inputs.input_ids,\n",
    "    attention_mask = inputs.attention_mask,\n",
    "    max_new_tokens = 1200,\n",
    "    use_cache = True\n",
    ")\n",
    "\n",
    "# Decode the response tokens back to text\n",
    "response = tokenizer.batch_decode(outputs)\n",
    "\n",
    "\n",
    "print(response)"
   ]
  },
  {
   "cell_type": "code",
   "execution_count": 14,
   "metadata": {
    "execution": {
     "iopub.execute_input": "2025-08-11T15:41:22.267070Z",
     "iopub.status.busy": "2025-08-11T15:41:22.266839Z",
     "iopub.status.idle": "2025-08-11T15:41:22.271240Z",
     "shell.execute_reply": "2025-08-11T15:41:22.270459Z",
     "shell.execute_reply.started": "2025-08-11T15:41:22.267053Z"
    },
    "trusted": true
   },
   "outputs": [
    {
     "name": "stdout",
     "output_type": "stream",
     "text": [
      "\n",
      "\n",
      "**Step 1:** Understand the patient's history.\n",
      "The patient is a 61-year-old woman with a history of involuntary urine loss during activities like coughing or sneezing but no leakage at night. This suggests that her urinary leakage is stress-related rather than related to volume or nighttime urination.\n",
      "\n",
      "**Step 2:** Recall relevant medical concepts.\n",
      "Cystometry, also known as a urodynamic study, is a diagnostic procedure used to assess the capacity of the bladder and the nature of its contractions. It provides information about the following:\n",
      "- Residual volume of urine in the bladder.\n",
      "- Bladder capacity (how much it can hold before needing to empty).\n",
      "- The nature and strength of detrusor contractions (the muscle contractions that push urine out).\n",
      "\n",
      "**Step 3:** Analyze the expected findings based on the patient's history.\n",
      "Given that the patient experiences urine loss during activities that increase intra-abdominal pressure (coughing, sneezing), it is likely that her bladder has reduced capacity. This is because repeated episodes of urine loss due to increased pressure can lead to the bladder becoming more sensitive and less able to store large volumes of urine.\n",
      "\n",
      "Additionally, the fact that she doesn't leak at night suggests that her nighttime bladder capacity is normal, as she doesn't experience the urge to urinate at that time. This implies that her daytime bladder is more susceptible to overflow or leakage when the pressure increases.\n",
      "\n",
      "**Step 4:** Relate the findings to cystometry results.\n",
      "In a cystometry study, if the patient's residual volume is low, it indicates that her bladder is functioning properly and can empty effectively. However, if the residual volume is high, it suggests that her bladder is not emptying completely, possibly due to weak detrusor contractions or impaired emptying.\n",
      "\n",
      "Given her history, it is more likely that the detrusor contractions are weak. This would lead to incomplete emptying of the bladder, resulting in residual urine. The weak contractions mean that the detrusor muscles are not contracting strongly enough to push all the urine out, leading to the involuntary leakage observed during activities that increase intra-abdominal pressure.\n",
      "\n",
      "**Step 5:** Conclude the expected results.\n",
      "Therefore, cystometry would most likely reveal that the patient has a low residual volume, indicating that her bladder can empty effectively when given the proper signal, but the detrusor contractions themselves are weak. This explains her symptoms of involuntary urine loss during activities that increase abdominal pressure but not at night.\n",
      "\n",
      "**Final Answer:** Cystometry would likely show a low residual volume with weak detrusor contractions.\n",
      "</think>\n",
      "\n",
      "**Final Answer:** Cystometry would likely show a low residual volume with weak detrusor contractions.<｜end▁of▁sentence｜>\n"
     ]
    }
   ],
   "source": [
    "\n",
    "print(response[0].split(\"### Answer:\")[1])"
   ]
  },
  {
   "cell_type": "code",
   "execution_count": 26,
   "metadata": {
    "execution": {
     "iopub.execute_input": "2025-08-11T15:51:26.465679Z",
     "iopub.status.busy": "2025-08-11T15:51:26.465399Z",
     "iopub.status.idle": "2025-08-11T15:51:27.554587Z",
     "shell.execute_reply": "2025-08-11T15:51:27.553868Z",
     "shell.execute_reply.started": "2025-08-11T15:51:26.465657Z"
    },
    "trusted": true
   },
   "outputs": [],
   "source": [
    "# Step8: Setup fine-tuning\n",
    "\n",
    "# Load Dataset\n",
    "medical_dataset = load_dataset(\"FreedomIntelligence/medical-o1-reasoning-SFT\", \"en\", split = \"train[:5000]\", trust_remote_code = True)\n",
    "     "
   ]
  },
  {
   "cell_type": "code",
   "execution_count": 27,
   "metadata": {
    "execution": {
     "iopub.execute_input": "2025-08-11T15:51:29.603742Z",
     "iopub.status.busy": "2025-08-11T15:51:29.603451Z",
     "iopub.status.idle": "2025-08-11T15:51:29.609126Z",
     "shell.execute_reply": "2025-08-11T15:51:29.608494Z",
     "shell.execute_reply.started": "2025-08-11T15:51:29.603718Z"
    },
    "trusted": true
   },
   "outputs": [
    {
     "data": {
      "text/plain": [
       "{'Question': 'A 33-year-old woman is brought to the emergency department 15 minutes after being stabbed in the chest with a screwdriver. Given her vital signs of pulse 110/min, respirations 22/min, and blood pressure 90/65 mm Hg, along with the presence of a 5-cm deep stab wound at the upper border of the 8th rib in the left midaxillary line, which anatomical structure in her chest is most likely to be injured?',\n",
       " 'Complex_CoT': \"Okay, let's figure out what's going on here. A woman comes in with a stab wound from a screwdriver. It's in her chest, upper border of the 8th rib, left side, kind of around the midaxillary line. First thought, that's pretty close to where the lung sits, right?\\n\\nLet's talk about location first. This spot is along the left side of her body. Above the 8th rib, like that, is where a lot of important stuff lives, like the bottom part of the left lung, possibly the diaphragm too, especially considering how deep the screwdriver went.\\n\\nThe wound is 5 cm deep. That sounds pretty deep. I mean, it could definitely reach down to the lung tissue or maybe the diaphragm. Given that it's midaxillary, we're in the territory where the lower lobe of the left lung hangs out. It's also possible there's some intersection with where the diaphragm begins, but the lung feels more probable somehow.\\n\\nNow, her vitals are concerning: elevated heart rate and low blood pressure. This is serious. My gut says that this kind of vital sign picture could mean something like pneumothorax or maybe hemothorax. Both can happen if the lung gets punctured, and they can make the blood pressure drop and the heart rate skyrocket since she's obviously distressed.\\n\\nSo, putting it all together, the most obvious culprit is the lower lobe of the left lung. The wound's depth and her condition point that way. And, yeah, this adds up with pneumothorax or maybe blood collecting in the chest—the kind of stuff that can really mess with breathing and circulation.\\n\\nAlright, with this in mind, it sure seems like the lung is the most likely thing that got hurt here. Makes sense given the situation, where the wound is, considering her symptoms, and the whole setup.\",\n",
       " 'Response': 'In this scenario, the most likely anatomical structure to be injured is the lower lobe of the left lung. The location of the stab wound—at the upper border of the 8th rib in the left midaxillary line—indicates proximity to the lower lobe of the lung. The depth of the wound (5 cm) suggests it is sufficient to reach lung tissue. Her vital signs of elevated heart rate and low blood pressure could signal complications like a pneumothorax or hemothorax, common consequences of lung trauma that would result from a penetrating injury in this area. Given these considerations, the lower lobe of the left lung is the most probable structure injured.'}"
      ]
     },
     "execution_count": 27,
     "metadata": {},
     "output_type": "execute_result"
    }
   ],
   "source": [
    "medical_dataset[1]"
   ]
  },
  {
   "cell_type": "code",
   "execution_count": 18,
   "metadata": {
    "execution": {
     "iopub.execute_input": "2025-08-11T15:43:00.432957Z",
     "iopub.status.busy": "2025-08-11T15:43:00.432615Z",
     "iopub.status.idle": "2025-08-11T15:43:00.438788Z",
     "shell.execute_reply": "2025-08-11T15:43:00.437999Z",
     "shell.execute_reply.started": "2025-08-11T15:43:00.432933Z"
    },
    "trusted": true
   },
   "outputs": [
    {
     "data": {
      "text/plain": [
       "'<｜end▁of▁sentence｜>'"
      ]
     },
     "execution_count": 18,
     "metadata": {},
     "output_type": "execute_result"
    }
   ],
   "source": [
    "\n",
    "EOS_TOKEN = tokenizer.eos_token  # Define EOS_TOKEN which tells the model when to stop generating text during training\n",
    "EOS_TOKEN"
   ]
  },
  {
   "cell_type": "code",
   "execution_count": 28,
   "metadata": {
    "execution": {
     "iopub.execute_input": "2025-08-11T15:51:34.383574Z",
     "iopub.status.busy": "2025-08-11T15:51:34.382782Z",
     "iopub.status.idle": "2025-08-11T15:51:34.386974Z",
     "shell.execute_reply": "2025-08-11T15:51:34.386243Z",
     "shell.execute_reply.started": "2025-08-11T15:51:34.383546Z"
    },
    "trusted": true
   },
   "outputs": [],
   "source": [
    "\n",
    "### Finetuning\n",
    "# Updated training prompt style to add  tag\n",
    "train_prompt_style = \"\"\"Below is an instruction that describes a task, paired with an input that provides further context.\n",
    "Write a response that appropriately completes the request.\n",
    "Before answering, think carefully about the question and create a step-by-step chain of thoughts to ensure a logical and accurate response.\n",
    "\n",
    "### Instruction:\n",
    "You are a medical expert with advanced knowledge in clinical reasoning, diagnostics, and treatment planning.\n",
    "Please answer the following medical question.\n",
    "\n",
    "### Question:\n",
    "{}\n",
    "\n",
    "### Response:\n",
    "\n",
    "{}\n",
    "\n",
    "{}\"\"\""
   ]
  },
  {
   "cell_type": "code",
   "execution_count": 68,
   "metadata": {
    "execution": {
     "iopub.execute_input": "2025-08-11T16:35:33.603555Z",
     "iopub.status.busy": "2025-08-11T16:35:33.603280Z",
     "iopub.status.idle": "2025-08-11T16:35:33.608168Z",
     "shell.execute_reply": "2025-08-11T16:35:33.607382Z",
     "shell.execute_reply.started": "2025-08-11T16:35:33.603534Z"
    },
    "trusted": true
   },
   "outputs": [],
   "source": [
    "def formatting_prompts_func(examples):\n",
    "  inputs = examples[\"Question\"]\n",
    "  cots = examples[\"Complex_CoT\"]\n",
    "  outputs = examples[\"Response\"]\n",
    "\n",
    "  texts = []\n",
    "\n",
    "  for input, cot, output in zip(inputs, cots, outputs):\n",
    "    text = train_prompt_style.format(input, cot, output) + EOS_TOKEN\n",
    "    texts.append(text)\n",
    "\n",
    "  return {\n",
    "      \"texts\" : texts,\n",
    "  }"
   ]
  },
  {
   "cell_type": "code",
   "execution_count": 81,
   "metadata": {
    "execution": {
     "iopub.execute_input": "2025-08-11T16:51:29.698792Z",
     "iopub.status.busy": "2025-08-11T16:51:29.698077Z",
     "iopub.status.idle": "2025-08-11T16:51:29.705338Z",
     "shell.execute_reply": "2025-08-11T16:51:29.704811Z",
     "shell.execute_reply.started": "2025-08-11T16:51:29.698740Z"
    },
    "trusted": true
   },
   "outputs": [],
   "source": [
    "finetune_dataset = medical_dataset.map(formatting_prompts_func, batched = True,)"
   ]
  },
  {
   "cell_type": "code",
   "execution_count": 70,
   "metadata": {
    "execution": {
     "iopub.execute_input": "2025-08-11T16:36:02.933616Z",
     "iopub.status.busy": "2025-08-11T16:36:02.932700Z",
     "iopub.status.idle": "2025-08-11T16:36:02.964639Z",
     "shell.execute_reply": "2025-08-11T16:36:02.963587Z",
     "shell.execute_reply.started": "2025-08-11T16:36:02.933590Z"
    },
    "trusted": true
   },
   "outputs": [
    {
     "data": {
      "text/plain": [
       "\"Below is an instruction that describes a task, paired with an input that provides further context.\\nWrite a response that appropriately completes the request.\\nBefore answering, think carefully about the question and create a step-by-step chain of thoughts to ensure a logical and accurate response.\\n\\n### Instruction:\\nYou are a medical expert with advanced knowledge in clinical reasoning, diagnostics, and treatment planning.\\nPlease answer the following medical question.\\n\\n### Question:\\nGiven the symptoms of sudden weakness in the left arm and leg, recent long-distance travel, and the presence of swollen and tender right lower leg, what specific cardiac abnormality is most likely to be found upon further evaluation that could explain these findings?\\n\\n### Response:\\n\\nOkay, let's see what's going on here. We've got sudden weakness in the person's left arm and leg - and that screams something neuro-related, maybe a stroke?\\n\\nBut wait, there's more. The right lower leg is swollen and tender, which is like waving a big flag for deep vein thrombosis, especially after a long flight or sitting around a lot.\\n\\nSo, now I'm thinking, how could a clot in the leg end up causing issues like weakness or stroke symptoms?\\n\\nOh, right! There's this thing called a paradoxical embolism. It can happen if there's some kind of short circuit in the heart - like a hole that shouldn't be there.\\n\\nLet's put this together: if a blood clot from the leg somehow travels to the left side of the heart, it could shoot off to the brain and cause that sudden weakness by blocking blood flow there.\\n\\nHmm, but how would the clot get from the right side of the heart to the left without going through the lungs and getting filtered out?\\n\\nHere's where our cardiac anomaly comes in: a patent foramen ovale or PFO. That's like a sneaky little shortcut in the heart between the right and left atria.\\n\\nAnd it's actually pretty common, found in about a quarter of adults, which definitely makes it the top suspect here.\\n\\nSo with all these pieces - long travel, leg clot, sudden weakness - a PFO fits the bill perfectly, letting a clot cross over and cause all this.\\n\\nEverything fits together pretty neatly, so I'd bet PFO is the heart issue waiting to be discovered. Yeah, that really clicks into place!\\n\\nThe specific cardiac abnormality most likely to be found in this scenario is a patent foramen ovale (PFO). This condition could allow a blood clot from the venous system, such as one from a deep vein thrombosis in the leg, to bypass the lungs and pass directly into the arterial circulation. This can occur when the clot moves from the right atrium to the left atrium through the PFO. Once in the arterial system, the clot can travel to the brain, potentially causing an embolic stroke, which would explain the sudden weakness in the left arm and leg. The connection between the recent travel, which increases the risk of deep vein thrombosis, and the neurological symptoms suggests the presence of a PFO facilitating a paradoxical embolism.<｜end▁of▁sentence｜>\""
      ]
     },
     "execution_count": 70,
     "metadata": {},
     "output_type": "execute_result"
    }
   ],
   "source": [
    "finetune_dataset[\"texts\"][0]"
   ]
  },
  {
   "cell_type": "code",
   "execution_count": 55,
   "metadata": {
    "execution": {
     "iopub.execute_input": "2025-08-11T16:27:11.752822Z",
     "iopub.status.busy": "2025-08-11T16:27:11.752265Z",
     "iopub.status.idle": "2025-08-11T16:27:18.734746Z",
     "shell.execute_reply": "2025-08-11T16:27:18.733952Z",
     "shell.execute_reply.started": "2025-08-11T16:27:11.752800Z"
    },
    "trusted": true
   },
   "outputs": [
    {
     "name": "stderr",
     "output_type": "stream",
     "text": [
      "/usr/local/lib/python3.11/dist-packages/peft/mapping_func.py:73: UserWarning: You are trying to modify a model with PEFT for a second time. If you want to reload the model with a different config, make sure to call `.unload()` before.\n",
      "  warnings.warn(\n",
      "/usr/local/lib/python3.11/dist-packages/peft/tuners/tuners_utils.py:167: UserWarning: Already found a `peft_config` attribute in the model. This will lead to having multiple adapters in the model. Make sure to know what you are doing!\n",
      "  warnings.warn(\n"
     ]
    }
   ],
   "source": [
    "# Step9: Setup/Apply LoRA finetuning to the model\n",
    "\n",
    "model_lora = FastLanguageModel.get_peft_model(\n",
    "    model = model,\n",
    "    r = 16,\n",
    "    target_modules = [\n",
    "        \"q_proj\",\n",
    "        \"k_proj\",\n",
    "        \"v_proj\",\n",
    "        \"o_proj\",\n",
    "        \"gate_proj\",\n",
    "        \"up_proj\",\n",
    "        \"down_proj\"\n",
    "    ],\n",
    "    lora_alpha = 16,\n",
    "    lora_dropout = 0,\n",
    "    bias = \"none\",\n",
    "    use_gradient_checkpointing = \"unsloth\",\n",
    "    random_state = 3047,\n",
    "    use_rslora = False,\n",
    "    loftq_config = None\n",
    ")"
   ]
  },
  {
   "cell_type": "code",
   "execution_count": 56,
   "metadata": {
    "execution": {
     "iopub.execute_input": "2025-08-11T16:27:19.189369Z",
     "iopub.status.busy": "2025-08-11T16:27:19.188663Z",
     "iopub.status.idle": "2025-08-11T16:27:19.192671Z",
     "shell.execute_reply": "2025-08-11T16:27:19.191948Z",
     "shell.execute_reply.started": "2025-08-11T16:27:19.189344Z"
    },
    "trusted": true
   },
   "outputs": [],
   "source": [
    "\n",
    "# Add this before creating the trainer\n",
    "if hasattr(model, '_unwrapped_old_generate'):\n",
    "    del model._unwrapped_old_generate"
   ]
  },
  {
   "cell_type": "code",
   "execution_count": 85,
   "metadata": {
    "execution": {
     "iopub.execute_input": "2025-08-11T16:55:07.065303Z",
     "iopub.status.busy": "2025-08-11T16:55:07.064650Z",
     "iopub.status.idle": "2025-08-11T16:55:07.068685Z",
     "shell.execute_reply": "2025-08-11T16:55:07.068030Z",
     "shell.execute_reply.started": "2025-08-11T16:55:07.065275Z"
    },
    "trusted": true
   },
   "outputs": [],
   "source": [
    "def dummy_formatting_func(example):\n",
    "    return example[\"texts\"] "
   ]
  },
  {
   "cell_type": "code",
   "execution_count": 88,
   "metadata": {
    "execution": {
     "iopub.execute_input": "2025-08-11T16:56:46.826334Z",
     "iopub.status.busy": "2025-08-11T16:56:46.825723Z",
     "iopub.status.idle": "2025-08-11T16:56:51.858069Z",
     "shell.execute_reply": "2025-08-11T16:56:51.857414Z",
     "shell.execute_reply.started": "2025-08-11T16:56:46.826313Z"
    },
    "trusted": true
   },
   "outputs": [
    {
     "data": {
      "application/vnd.jupyter.widget-view+json": {
       "model_id": "40e7c671373d4b18b93c913927c3190c",
       "version_major": 2,
       "version_minor": 0
      },
      "text/plain": [
       "Unsloth: Tokenizing [\"text\"]:   0%|          | 0/5000 [00:00<?, ? examples/s]"
      ]
     },
     "metadata": {},
     "output_type": "display_data"
    }
   ],
   "source": [
    "def dummy_formatting_func(example):\n",
    "    text = example[\"texts\"]\n",
    "    return [text] if isinstance(text, str) else text\n",
    "\n",
    "\n",
    "trainer = SFTTrainer(\n",
    "    model = model_lora,\n",
    "    tokenizer = tokenizer,\n",
    "    train_dataset = finetune_dataset,\n",
    "    dataset_text_field = \"texts\",\n",
    "    formatting_func = dummy_formatting_func,  # ✅ Required, must return List[str]\n",
    "    max_seq_length = max_sequence_length,\n",
    "    dataset_num_proc = 1,\n",
    "\n",
    "    args = TrainingArguments(\n",
    "        per_device_train_batch_size = 2,\n",
    "        gradient_accumulation_steps = 4,\n",
    "        num_train_epochs = 1,\n",
    "        warmup_steps = 5,\n",
    "        max_steps = 60,\n",
    "        learning_rate = 2e-4,\n",
    "        fp16 = not is_bfloat16_supported(),\n",
    "        bf16 = is_bfloat16_supported(),\n",
    "        logging_steps = 10,\n",
    "        optim = \"adamw_8bit\",\n",
    "        weight_decay = 0.01,\n",
    "        lr_scheduler_type = \"linear\",\n",
    "        seed = 3407,\n",
    "        output_dir = \"outputs\",\n",
    "    ),\n",
    ")\n"
   ]
  },
  {
   "cell_type": "code",
   "execution_count": 89,
   "metadata": {
    "execution": {
     "iopub.execute_input": "2025-08-11T16:57:00.860464Z",
     "iopub.status.busy": "2025-08-11T16:57:00.859800Z",
     "iopub.status.idle": "2025-08-11T16:57:14.435139Z",
     "shell.execute_reply": "2025-08-11T16:57:14.434546Z",
     "shell.execute_reply.started": "2025-08-11T16:57:00.860444Z"
    },
    "trusted": true
   },
   "outputs": [
    {
     "name": "stderr",
     "output_type": "stream",
     "text": [
      "\u001b[34m\u001b[1mwandb\u001b[0m: \u001b[33mWARNING\u001b[0m If you're specifying your api key in code, ensure this code is not shared publicly.\n",
      "\u001b[34m\u001b[1mwandb\u001b[0m: \u001b[33mWARNING\u001b[0m Consider setting the WANDB_API_KEY environment variable, or running `wandb login` from the command line.\n",
      "\u001b[34m\u001b[1mwandb\u001b[0m: No netrc file found, creating one.\n",
      "\u001b[34m\u001b[1mwandb\u001b[0m: Appending key for api.wandb.ai to your netrc file: /root/.netrc\n",
      "\u001b[34m\u001b[1mwandb\u001b[0m: Currently logged in as: \u001b[33min-shubhamshekhar\u001b[0m (\u001b[33min-shubhamshekhar-student\u001b[0m) to \u001b[32mhttps://api.wandb.ai\u001b[0m. Use \u001b[1m`wandb login --relogin`\u001b[0m to force relogin\n"
     ]
    },
    {
     "data": {
      "text/html": [
       "Tracking run with wandb version 0.20.1"
      ],
      "text/plain": [
       "<IPython.core.display.HTML object>"
      ]
     },
     "metadata": {},
     "output_type": "display_data"
    },
    {
     "data": {
      "text/html": [
       "Run data is saved locally in <code>/kaggle/working/wandb/run-20250811_165707-8s2bh140</code>"
      ],
      "text/plain": [
       "<IPython.core.display.HTML object>"
      ]
     },
     "metadata": {},
     "output_type": "display_data"
    },
    {
     "data": {
      "text/html": [
       "Syncing run <strong><a href='https://wandb.ai/in-shubhamshekhar-student/Fine-tune-DeepSeek-R1-on-Medical-CoT-Dataset/runs/8s2bh140?apiKey=3e73de2fc9dfe55044c00ffdbed1f444b28a8004' target=\"_blank\">neat-haze-1</a></strong> to <a href='https://wandb.ai/in-shubhamshekhar-student/Fine-tune-DeepSeek-R1-on-Medical-CoT-Dataset?apiKey=3e73de2fc9dfe55044c00ffdbed1f444b28a8004' target=\"_blank\">Weights & Biases</a> (<a href='https://wandb.me/developer-guide' target=\"_blank\">docs</a>)<br>"
      ],
      "text/plain": [
       "<IPython.core.display.HTML object>"
      ]
     },
     "metadata": {},
     "output_type": "display_data"
    },
    {
     "data": {
      "text/html": [
       " View project at <a href='https://wandb.ai/in-shubhamshekhar-student/Fine-tune-DeepSeek-R1-on-Medical-CoT-Dataset?apiKey=3e73de2fc9dfe55044c00ffdbed1f444b28a8004' target=\"_blank\">https://wandb.ai/in-shubhamshekhar-student/Fine-tune-DeepSeek-R1-on-Medical-CoT-Dataset?apiKey=3e73de2fc9dfe55044c00ffdbed1f444b28a8004</a>"
      ],
      "text/plain": [
       "<IPython.core.display.HTML object>"
      ]
     },
     "metadata": {},
     "output_type": "display_data"
    },
    {
     "data": {
      "text/html": [
       " View run at <a href='https://wandb.ai/in-shubhamshekhar-student/Fine-tune-DeepSeek-R1-on-Medical-CoT-Dataset/runs/8s2bh140?apiKey=3e73de2fc9dfe55044c00ffdbed1f444b28a8004' target=\"_blank\">https://wandb.ai/in-shubhamshekhar-student/Fine-tune-DeepSeek-R1-on-Medical-CoT-Dataset/runs/8s2bh140?apiKey=3e73de2fc9dfe55044c00ffdbed1f444b28a8004</a>"
      ],
      "text/plain": [
       "<IPython.core.display.HTML object>"
      ]
     },
     "metadata": {},
     "output_type": "display_data"
    },
    {
     "data": {
      "text/html": [
       "Do NOT share these links with anyone. They can be used to claim your runs."
      ],
      "text/plain": [
       "<IPython.core.display.HTML object>"
      ]
     },
     "metadata": {},
     "output_type": "display_data"
    }
   ],
   "source": [
    "wandb.login(key=\"\") # import wandb\n",
    "run = wandb.init(\n",
    "    project='Fine-tune-DeepSeek-R1-on-Medical-CoT-Dataset',\n",
    "    job_type=\"training\",\n",
    "    anonymous=\"allow\"\n",
    ")"
   ]
  },
  {
   "cell_type": "code",
   "execution_count": 90,
   "metadata": {
    "execution": {
     "iopub.execute_input": "2025-08-11T16:57:52.862026Z",
     "iopub.status.busy": "2025-08-11T16:57:52.861348Z",
     "iopub.status.idle": "2025-08-11T17:38:53.605025Z",
     "shell.execute_reply": "2025-08-11T17:38:53.604224Z",
     "shell.execute_reply.started": "2025-08-11T16:57:52.862002Z"
    },
    "trusted": true
   },
   "outputs": [
    {
     "name": "stderr",
     "output_type": "stream",
     "text": [
      "==((====))==  Unsloth - 2x faster free finetuning | Num GPUs used = 1\n",
      "   \\\\   /|    Num examples = 5,000 | Num Epochs = 1 | Total steps = 60\n",
      "O^O/ \\_/ \\    Batch size per device = 2 | Gradient accumulation steps = 4\n",
      "\\        /    Data Parallel GPUs = 1 | Total batch size (2 x 4 x 1) = 8\n",
      " \"-____-\"     Trainable parameters = 41,943,040 of 8,072,204,288 (0.52% trained)\n"
     ]
    },
    {
     "name": "stdout",
     "output_type": "stream",
     "text": [
      "Unsloth: Will smartly offload gradients to save VRAM!\n"
     ]
    },
    {
     "data": {
      "text/html": [
       "\n",
       "    <div>\n",
       "      \n",
       "      <progress value='60' max='60' style='width:300px; height:20px; vertical-align: middle;'></progress>\n",
       "      [60/60 40:16, Epoch 0/1]\n",
       "    </div>\n",
       "    <table border=\"1\" class=\"dataframe\">\n",
       "  <thead>\n",
       " <tr style=\"text-align: left;\">\n",
       "      <th>Step</th>\n",
       "      <th>Training Loss</th>\n",
       "    </tr>\n",
       "  </thead>\n",
       "  <tbody>\n",
       "    <tr>\n",
       "      <td>10</td>\n",
       "      <td>1.959900</td>\n",
       "    </tr>\n",
       "    <tr>\n",
       "      <td>20</td>\n",
       "      <td>1.486900</td>\n",
       "    </tr>\n",
       "    <tr>\n",
       "      <td>30</td>\n",
       "      <td>1.439800</td>\n",
       "    </tr>\n",
       "    <tr>\n",
       "      <td>40</td>\n",
       "      <td>1.374700</td>\n",
       "    </tr>\n",
       "    <tr>\n",
       "      <td>50</td>\n",
       "      <td>1.375100</td>\n",
       "    </tr>\n",
       "    <tr>\n",
       "      <td>60</td>\n",
       "      <td>1.395700</td>\n",
       "    </tr>\n",
       "  </tbody>\n",
       "</table><p>"
      ],
      "text/plain": [
       "<IPython.core.display.HTML object>"
      ]
     },
     "metadata": {},
     "output_type": "display_data"
    }
   ],
   "source": [
    "trainer_stats = trainer.train()"
   ]
  },
  {
   "cell_type": "code",
   "execution_count": 91,
   "metadata": {
    "execution": {
     "iopub.execute_input": "2025-08-11T17:38:53.606533Z",
     "iopub.status.busy": "2025-08-11T17:38:53.606276Z",
     "iopub.status.idle": "2025-08-11T17:39:17.470897Z",
     "shell.execute_reply": "2025-08-11T17:39:17.470331Z",
     "shell.execute_reply.started": "2025-08-11T17:38:53.606510Z"
    },
    "trusted": true
   },
   "outputs": [
    {
     "data": {
      "text/html": [],
      "text/plain": [
       "<IPython.core.display.HTML object>"
      ]
     },
     "metadata": {},
     "output_type": "display_data"
    },
    {
     "data": {
      "text/html": [
       "<br>    <style><br>        .wandb-row {<br>            display: flex;<br>            flex-direction: row;<br>            flex-wrap: wrap;<br>            justify-content: flex-start;<br>            width: 100%;<br>        }<br>        .wandb-col {<br>            display: flex;<br>            flex-direction: column;<br>            flex-basis: 100%;<br>            flex: 1;<br>            padding: 10px;<br>        }<br>    </style><br><div class=\"wandb-row\"><div class=\"wandb-col\"><h3>Run history:</h3><br/><table class=\"wandb\"><tr><td>train/epoch</td><td>▁▂▄▅▇██</td></tr><tr><td>train/global_step</td><td>▁▂▄▅▇██</td></tr><tr><td>train/grad_norm</td><td>█▂▁▂▁▁</td></tr><tr><td>train/learning_rate</td><td>█▇▅▄▂▁</td></tr><tr><td>train/loss</td><td>█▂▂▁▁▁</td></tr></table><br/></div><div class=\"wandb-col\"><h3>Run summary:</h3><br/><table class=\"wandb\"><tr><td>total_flos</td><td>1.6633054937481216e+16</td></tr><tr><td>train/epoch</td><td>0.096</td></tr><tr><td>train/global_step</td><td>60</td></tr><tr><td>train/grad_norm</td><td>0.25146</td></tr><tr><td>train/learning_rate</td><td>0.0</td></tr><tr><td>train/loss</td><td>1.3957</td></tr><tr><td>train_loss</td><td>1.50536</td></tr><tr><td>train_runtime</td><td>2458.3491</td></tr><tr><td>train_samples_per_second</td><td>0.195</td></tr><tr><td>train_steps_per_second</td><td>0.024</td></tr></table><br/></div></div>"
      ],
      "text/plain": [
       "<IPython.core.display.HTML object>"
      ]
     },
     "metadata": {},
     "output_type": "display_data"
    },
    {
     "data": {
      "text/html": [
       " View run <strong style=\"color:#cdcd00\">neat-haze-1</strong> at: <a href='https://wandb.ai/in-shubhamshekhar-student/Fine-tune-DeepSeek-R1-on-Medical-CoT-Dataset/runs/8s2bh140?apiKey=3e73de2fc9dfe55044c00ffdbed1f444b28a8004' target=\"_blank\">https://wandb.ai/in-shubhamshekhar-student/Fine-tune-DeepSeek-R1-on-Medical-CoT-Dataset/runs/8s2bh140?apiKey=3e73de2fc9dfe55044c00ffdbed1f444b28a8004</a><br> View project at: <a href='https://wandb.ai/in-shubhamshekhar-student/Fine-tune-DeepSeek-R1-on-Medical-CoT-Dataset?apiKey=3e73de2fc9dfe55044c00ffdbed1f444b28a8004' target=\"_blank\">https://wandb.ai/in-shubhamshekhar-student/Fine-tune-DeepSeek-R1-on-Medical-CoT-Dataset?apiKey=3e73de2fc9dfe55044c00ffdbed1f444b28a8004</a><br>Synced 5 W&B file(s), 0 media file(s), 0 artifact file(s) and 0 other file(s)"
      ],
      "text/plain": [
       "<IPython.core.display.HTML object>"
      ]
     },
     "metadata": {},
     "output_type": "display_data"
    },
    {
     "data": {
      "text/html": [
       "Find logs at: <code>./wandb/run-20250811_165707-8s2bh140/logs</code>"
      ],
      "text/plain": [
       "<IPython.core.display.HTML object>"
      ]
     },
     "metadata": {},
     "output_type": "display_data"
    }
   ],
   "source": [
    "\n",
    "wandb.finish()"
   ]
  },
  {
   "cell_type": "code",
   "execution_count": 92,
   "metadata": {
    "execution": {
     "iopub.execute_input": "2025-08-11T17:40:01.238969Z",
     "iopub.status.busy": "2025-08-11T17:40:01.238336Z",
     "iopub.status.idle": "2025-08-11T17:40:29.595221Z",
     "shell.execute_reply": "2025-08-11T17:40:29.594291Z",
     "shell.execute_reply.started": "2025-08-11T17:40:01.238943Z"
    },
    "trusted": true
   },
   "outputs": [
    {
     "name": "stdout",
     "output_type": "stream",
     "text": [
      "[\"<｜begin▁of▁sentence｜>\\nBelow is a task description along with additional context provided in the input section. Your goal is to provide a well-reasoned response that effectively addresses the request.\\n\\nBefore crafting your answer, take a moment to carefully analyze the question. Develop a clear, step-by-step thought process to ensure your response is both logical and accurate.\\n\\n### Task:\\nYou are a medical expert specializing in clinical reasoning, diagnostics, and treatment planning. Answer the medical question below using your advanced knowledge.\\n\\n### Query:\\nA 61-year-old woman with a long history of involuntary urine loss during activities like coughing or sneezing\\n              but no leakage at night undergoes a gynecological exam and Q-tip test. Based on these findings,\\n              what would cystometry most likely reveal about her residual volume and detrusor contractions?\\n\\n### Answer:\\n\\nAlright, let's think through this. This woman is experiencing involuntary urine loss, and it's happening when she coughs or sneezes. That's a classic sign of a bladder issue, probably an overactive bladder or maybe some nerve sensitivity. Now, she's undergone a gynecological exam and a Q-tip test. These tests can help us understand what's going on with her bladder function. \\n\\nWhen we do a Q-tip test, we're essentially checking how her bladder reacts to a mild electrical stimulation. If the test shows a strong contraction in response to the stimulus, it suggests that the detrusor muscle is contracting too much when it's not supposed to. This makes sense because overactivity is a common reason for these symptoms.\\n\\nNow, let's think about what we know about cystometry. It's a more detailed test that tells us about bladder capacity and muscle contractions. If she has an overactive bladder, we'd expect her residual volume to be low. That's because her bladder isn't holding much urine, making it more prone to leakage, especially with activities that put pressure on her bladder.\\n\\nGiven her symptoms and the findings from the Q-tip test, it's likely that her bladder has low residual volume. This is consistent with an overactive bladder where the capacity is reduced. If we were to perform cystometry, we'd expect to see these low residual volumes. \\n\\nAdditionally, we'd probably find that her detrusor muscles are contracting too much, which can be seen during the cystometric test. This further supports the idea that her bladder is overactive, leading to involuntary contractions and the symptoms she's experiencing.\\n\\nSo, putting it all together, if we did the cystometry on her, we'd expect to see a low residual volume and evidence of too much contraction in the detrusor muscle. This would align with the findings from her Q-tip test and the symptoms she's been experiencing.\\n\\nIn a cystometric examination, a 61-year-old woman who has a history of involuntary urine loss during activities such as coughing or sneezing would most likely show a low residual volume and evidence of overactive detrusor contractions. These findings are consistent with the symptoms of an overactive bladder, which is often characterized by an inability to fully relax the detrusor muscle and an increase in bladder sensitivity. The Q-tip test, which typically measures the bladder's response to a mild electrical stimulus, would have revealed an exaggerated contraction, further supporting the diagnosis of an overactive bladder.<｜end▁of▁sentence｜>\"]\n"
     ]
    }
   ],
   "source": [
    "# Step10: Testing after fine-tuning\n",
    "question = \"\"\"A 61-year-old woman with a long history of involuntary urine loss during activities like coughing or sneezing\n",
    "              but no leakage at night undergoes a gynecological exam and Q-tip test. Based on these findings,\n",
    "              what would cystometry most likely reveal about her residual volume and detrusor contractions?\"\"\"\n",
    "\n",
    "FastLanguageModel.for_inference(model_lora)\n",
    "\n",
    "# Tokenize the input\n",
    "inputs = tokenizer([prompt_style.format(question, \"\")], return_tensors=\"pt\").to(\"cuda\")\n",
    "\n",
    "# Generate a response\n",
    "outputs = model_lora.generate (\n",
    "    input_ids = inputs.input_ids,\n",
    "    attention_mask = inputs.attention_mask,\n",
    "    max_new_tokens = 1200,\n",
    "    use_cache = True\n",
    ")\n",
    "\n",
    "# Decode the response tokens back to text\n",
    "response = tokenizer.batch_decode(outputs)\n",
    "\n",
    "print(response)"
   ]
  },
  {
   "cell_type": "code",
   "execution_count": 93,
   "metadata": {
    "execution": {
     "iopub.execute_input": "2025-08-11T17:40:29.596735Z",
     "iopub.status.busy": "2025-08-11T17:40:29.596379Z",
     "iopub.status.idle": "2025-08-11T17:40:29.601059Z",
     "shell.execute_reply": "2025-08-11T17:40:29.600064Z",
     "shell.execute_reply.started": "2025-08-11T17:40:29.596705Z"
    },
    "trusted": true
   },
   "outputs": [
    {
     "name": "stdout",
     "output_type": "stream",
     "text": [
      "\n",
      "\n",
      "Alright, let's think through this. This woman is experiencing involuntary urine loss, and it's happening when she coughs or sneezes. That's a classic sign of a bladder issue, probably an overactive bladder or maybe some nerve sensitivity. Now, she's undergone a gynecological exam and a Q-tip test. These tests can help us understand what's going on with her bladder function. \n",
      "\n",
      "When we do a Q-tip test, we're essentially checking how her bladder reacts to a mild electrical stimulation. If the test shows a strong contraction in response to the stimulus, it suggests that the detrusor muscle is contracting too much when it's not supposed to. This makes sense because overactivity is a common reason for these symptoms.\n",
      "\n",
      "Now, let's think about what we know about cystometry. It's a more detailed test that tells us about bladder capacity and muscle contractions. If she has an overactive bladder, we'd expect her residual volume to be low. That's because her bladder isn't holding much urine, making it more prone to leakage, especially with activities that put pressure on her bladder.\n",
      "\n",
      "Given her symptoms and the findings from the Q-tip test, it's likely that her bladder has low residual volume. This is consistent with an overactive bladder where the capacity is reduced. If we were to perform cystometry, we'd expect to see these low residual volumes. \n",
      "\n",
      "Additionally, we'd probably find that her detrusor muscles are contracting too much, which can be seen during the cystometric test. This further supports the idea that her bladder is overactive, leading to involuntary contractions and the symptoms she's experiencing.\n",
      "\n",
      "So, putting it all together, if we did the cystometry on her, we'd expect to see a low residual volume and evidence of too much contraction in the detrusor muscle. This would align with the findings from her Q-tip test and the symptoms she's been experiencing.\n",
      "\n",
      "In a cystometric examination, a 61-year-old woman who has a history of involuntary urine loss during activities such as coughing or sneezing would most likely show a low residual volume and evidence of overactive detrusor contractions. These findings are consistent with the symptoms of an overactive bladder, which is often characterized by an inability to fully relax the detrusor muscle and an increase in bladder sensitivity. The Q-tip test, which typically measures the bladder's response to a mild electrical stimulus, would have revealed an exaggerated contraction, further supporting the diagnosis of an overactive bladder.<｜end▁of▁sentence｜>\n"
     ]
    }
   ],
   "source": [
    "\n",
    "print(response[0].split(\"### Answer:\")[1])"
   ]
  },
  {
   "cell_type": "code",
   "execution_count": 94,
   "metadata": {
    "execution": {
     "iopub.execute_input": "2025-08-11T17:42:44.382713Z",
     "iopub.status.busy": "2025-08-11T17:42:44.382055Z",
     "iopub.status.idle": "2025-08-11T17:43:22.160772Z",
     "shell.execute_reply": "2025-08-11T17:43:22.159977Z",
     "shell.execute_reply.started": "2025-08-11T17:42:44.382690Z"
    },
    "trusted": true
   },
   "outputs": [
    {
     "name": "stdout",
     "output_type": "stream",
     "text": [
      "\n",
      "\n",
      "Okay, let's see. We've got a 59-year-old guy who's feeling really unwell. He's got a fever, chills, and he's even sweating at night, which is pretty classic for an infection. Hmm, and then there's the vegetation on the aortic valve. That's a big clue because it's usually a sign of an infection involving the heart.\n",
      "\n",
      "Now, looking at the blood cultures, we see gram-positive, catalase-negative, gamma-hemolytic cocci that are in chains. Oh, those are definitely staphylococci. But wait, they don't grow in a 6.5% NaCl medium. Hmm, that's interesting because Staphylococcus aureus usually doesn't grow there, but Staphylococcus epidermidis does. \n",
      "\n",
      "So, let's think about what might be causing this. The patient is 59, and that's pretty old. It's not uncommon for older folks to have some wear and tear on their heart valves, especially the aortic valve. That's a key point here because the vegetation is on the aortic valve, and it's an infection.\n",
      "\n",
      "Oh, and we're talking about gram-positive cocci in chains. That really narrows it down to Staphylococcus epidermidis, right? Because that's the kind of bacteria that typically causes endocarditis in this context. Plus, it doesn't grow in that 6.5% NaCl medium, which matches up with what we know about S. epidermidis.\n",
      "\n",
      "So, putting it all together, the most likely predisposing factor here is the aortic valve being worn out, especially in this older guy. It's pretty common for older patients to have some wear and tear on their heart valves, and that's a setup where the bacteria can take hold and cause an infection.\n",
      "\n",
      "I think we've got it. The patient's age and the presence of a vegetation on the aortic valve are the main clues pointing us towards this scenario. It's a classic setup for Staphylococcus epidermidis causing endocarditis due to the wear and tear on the aortic valve in an older individual. That makes sense with the lab findings too, especially since the bacteria don't grow in that specific NaCl medium. \n",
      "\n",
      "Yep, this all checks out. The most likely predisposing factor here is definitely the aortic valve's wear and tear, especially in this older patient. That's a key risk factor for this kind of infection. \n",
      "\n",
      "The most likely predisposing factor for this patient's condition is the presence of aortic valve wear and tear. This is common in older individuals and can lead to the development of a vegetation on the aortic valve, making it a vulnerable site for bacterial colonization. The symptoms of fever, chills, night sweats, and fatigue are indicative of an active bacterial infection, and the lab findings of gram-positive, catalase-negative, gamma-hemolytic cocci in chains align with Staphylococcus epidermidis. This organism is known to cause endocarditis in such cases, especially in the context of pre-existing valve damage. Therefore, the predisposing factor is the aortic valve's wear and tear, which increases the risk of bacterial colonization and subsequent infection.<｜end▁of▁sentence｜>\n"
     ]
    }
   ],
   "source": [
    "question = \"\"\"A 59-year-old man presents with a fever, chills, night sweats, and generalized fatigue,\n",
    "              and is found to have a 12 mm vegetation on the aortic valve. Blood cultures indicate gram-positive, catalase-negative,\n",
    "              gamma-hemolytic cocci in chains that do not grow in a 6.5% NaCl medium.\n",
    "              What is the most likely predisposing factor for this patient's condition?\"\"\"\n",
    "\n",
    "FastLanguageModel.for_inference(model_lora)\n",
    "\n",
    "# Tokenize the input\n",
    "inputs = tokenizer([prompt_style.format(question, \"\")], return_tensors=\"pt\").to(\"cuda\")\n",
    "\n",
    "# Generate a response\n",
    "outputs = model_lora.generate (\n",
    "    input_ids = inputs.input_ids,\n",
    "    attention_mask = inputs.attention_mask,\n",
    "    max_new_tokens = 1200,\n",
    "    use_cache = True\n",
    ")\n",
    "\n",
    "# Decode the response tokens back to text\n",
    "response = tokenizer.batch_decode(outputs)\n",
    "\n",
    "print(response[0].split(\"### Answer:\")[1])"
   ]
  },
  {
   "cell_type": "code",
   "execution_count": 98,
   "metadata": {
    "execution": {
     "iopub.execute_input": "2025-08-11T17:54:01.973053Z",
     "iopub.status.busy": "2025-08-11T17:54:01.972269Z",
     "iopub.status.idle": "2025-08-11T17:56:32.740391Z",
     "shell.execute_reply": "2025-08-11T17:56:32.739686Z",
     "shell.execute_reply.started": "2025-08-11T17:54:01.973021Z"
    },
    "trusted": true
   },
   "outputs": [
    {
     "name": "stdout",
     "output_type": "stream",
     "text": [
      "Found HuggingFace hub cache directory: /root/.cache/huggingface/hub\n",
      "Checking cache directory for required files...\n",
      "Cache check failed: model-00001-of-00004.safetensors not found in local cache.\n",
      "Not all required files found in cache. Will proceed with downloading.\n",
      "Downloading safetensors index for unsloth/deepseek-r1-distill-llama-8b...\n"
     ]
    },
    {
     "name": "stderr",
     "output_type": "stream",
     "text": [
      "Unsloth: Merging weights into 16bit: 100%|██████████| 4/4 [02:26<00:00, 36.51s/it]\n"
     ]
    }
   ],
   "source": [
    "new_model_local=\"DeepSeek-R1-Medical-COT\"\n",
    "model_lora.save_pretrained(new_model_local)\n",
    "tokenizer.save_pretrained(new_model_local)\n",
    "model_lora.save_pretrained_merged(new_model_local,tokenizer,save_method=\"merged_16bit\",)"
   ]
  },
  {
   "cell_type": "code",
   "execution_count": 100,
   "metadata": {
    "execution": {
     "iopub.execute_input": "2025-08-11T17:57:37.834666Z",
     "iopub.status.busy": "2025-08-11T17:57:37.834347Z",
     "iopub.status.idle": "2025-08-11T18:02:07.441099Z",
     "shell.execute_reply": "2025-08-11T18:02:07.440457Z",
     "shell.execute_reply.started": "2025-08-11T17:57:37.834645Z"
    },
    "trusted": true
   },
   "outputs": [
    {
     "name": "stdout",
     "output_type": "stream",
     "text": [
      "Saved model to https://huggingface.co/ShubhamZoro/DeepSeek-R1-Medical-COT\n",
      "Unsloth: Saving to ShubhamZoro/DeepSeek-R1-Medical-COT will fail, but using a temp folder works! Switching to a temp folder then uploading!\n",
      "Found HuggingFace hub cache directory: /root/.cache/huggingface/hub\n",
      "Checking cache directory for required files...\n",
      "Cache check failed: model-00001-of-00004.safetensors not found in local cache.\n",
      "Not all required files found in cache. Will proceed with downloading.\n",
      "Downloading safetensors index for unsloth/deepseek-r1-distill-llama-8b...\n"
     ]
    },
    {
     "name": "stderr",
     "output_type": "stream",
     "text": [
      "Unsloth: Merging weights into 16bit: 100%|██████████| 4/4 [04:14<00:00, 63.61s/it]\n"
     ]
    }
   ],
   "source": [
    "new_model_online=\"ShubhamZoro/DeepSeek-R1-Medical-COT\"\n",
    "model_lora.push_to_hub(new_model_online)\n",
    "tokenizer.push_to_hub(new_model_online)\n",
    "model_lora.push_to_hub_merged(new_model_online,tokenizer,save_method=\"merged_16bit\")"
   ]
  },
  {
   "cell_type": "code",
   "execution_count": null,
   "metadata": {
    "trusted": true
   },
   "outputs": [],
   "source": []
  }
 ],
 "metadata": {
  "kaggle": {
   "accelerator": "gpu",
   "dataSources": [],
   "dockerImageVersionId": 31090,
   "isGpuEnabled": true,
   "isInternetEnabled": true,
   "language": "python",
   "sourceType": "notebook"
  },
  "kernelspec": {
   "display_name": "Python 3",
   "language": "python",
   "name": "python3"
  },
  "language_info": {
   "codemirror_mode": {
    "name": "ipython",
    "version": 3
   },
   "file_extension": ".py",
   "mimetype": "text/x-python",
   "name": "python",
   "nbconvert_exporter": "python",
   "pygments_lexer": "ipython3",
   "version": "3.11.13"
  }
 },
 "nbformat": 4,
 "nbformat_minor": 4
}
